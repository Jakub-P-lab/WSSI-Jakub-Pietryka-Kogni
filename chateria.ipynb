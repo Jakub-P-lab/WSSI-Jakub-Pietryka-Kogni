{
  "nbformat": 4,
  "nbformat_minor": 0,
  "metadata": {
    "colab": {
      "provenance": [],
      "authorship_tag": "ABX9TyPb/MLryf4Oohcmh4u6jcT9",
      "include_colab_link": true
    },
    "kernelspec": {
      "name": "python3",
      "display_name": "Python 3"
    },
    "language_info": {
      "name": "python"
    }
  },
  "cells": [
    {
      "cell_type": "markdown",
      "metadata": {
        "id": "view-in-github",
        "colab_type": "text"
      },
      "source": [
        "<a href=\"https://colab.research.google.com/github/Jakub-P-lab/WSSI-Jakub-Pietryka-Kogni/blob/Chateria/chateria.ipynb\" target=\"_parent\"><img src=\"https://colab.research.google.com/assets/colab-badge.svg\" alt=\"Open In Colab\"/></a>"
      ]
    },
    {
      "cell_type": "markdown",
      "source": [
        "Zadanie 1.\n",
        "1. wypełnianie deklaracji PIT - jest dużo informacji osobowych i pomyłka może prowadzić do poważnych konsekwencji\n",
        "2. układanie rozkładu jazdy transportu miejskiego - jest bardzo dużo możliwości i trzeba bardzo dokładnie ułożyć rozkład jazdy by wszystko miało ręce i nogi\n",
        "3. „programowanie” kanałów telewizyjnych - trzeba bardzo dobrze znać zapotrzebowania ludzkie oraz różne skomplikowane mechaniki jak przyciągnąć uwagę widza\n",
        "4. testowanie oprogramowania - często testy wymagają myślenia abstrakcyjnego\n",
        "5. kierowanie samochodem - błędy mogą prowadzić do śmierci\n"
      ],
      "metadata": {
        "id": "Ocp_-q85FnCD"
      }
    },
    {
      "cell_type": "markdown",
      "source": [
        "Zadanie 2.\n",
        "1. streszczanie tekstu\n",
        "2. tłumaczenie tekstu\n",
        "3. klasyfikacja tekstu do kategorii tematycznych\n",
        "4. odpowiadanie na proste pytania zadawane w języku naturalnym\n",
        "5. rozwiązywanie układów równań\n",
        "6. rozwiązywanie układów równań liniowych\n",
        "7. symboliczne obliczanie pochodnych\n",
        "8. symboliczne całkowanie\n",
        "9. kierowanie samochodem"
      ],
      "metadata": {
        "id": "1MZd6OzRIJE6"
      }
    },
    {
      "cell_type": "markdown",
      "source": [
        "Zadanie 3.\n",
        "1. rozmowa towarzyska\n",
        "2. odpowiadanie na pytania klientów w telefonicznej infolinii\n",
        "3. odpowiadanie na pytania klientów w internetowej infolinii"
      ],
      "metadata": {
        "id": "Gdn26PB8JOwf"
      }
    },
    {
      "cell_type": "markdown",
      "source": [
        "Zadanie 4.\n",
        "1. Bot udający człowieka będzie się starał odpowiedzieć na większość pytań i nie ma określonej tematyki czy zakresu wiedzy. Bot \"asystent\" natomiast ma limit pytań na które potrafi odpowiedzieć i ma określony zakres wiedzy.\n",
        "2. Do zadania użyłem chatbotów https://www.cleverbot.com/ (bot udający człowieka) oraz https://chatbot.pl/ (bot asystent).\n",
        "\n",
        "*   a) oba potrafią opowiadać żarty\n",
        "*   b) oba nie potrafią przytaczać cytatów\n",
        "*   c) cleverbot czasem potrafi nawiązywać do słów kluczowych, chatbot.pl gdy jest to słowo w obszarze jego wiedzy\n",
        "*   d) oba nie zadają praktycznie żadnych pytań\n",
        "*   e) bot asystent się powtarza gdy nie zna odpowiedzi na pytanie (proponuje inne pytania)\n",
        "*   f) oba boty nie zadają pytań wynikających z wypowiedzi użytkownika\n",
        "*   g) cleverbot nagminnie odpowiada nie na temat, bot asystent natomiast nie wykazuje takiego zachowania\n",
        "*   h) cleverbot często zmienia temat, tak samo jak bot asystent\n",
        "*   i) oba wykazują problemy z utrzymaniem wątku, jednak u cleverbota w przeciwieństwie do bota asystenta da się pociągnąć jeden wątek\n",
        "\n",
        "3. Zauważyłem, że oba chatboty potrafią opowiadać żarty i odpowiadać głównie na proste pytania. Odpowiedzi w przypadku cleverbota były często losowe, niedotyczące rozmowy lecz mimo tego potrafi przez kilka wypowiedzi pociągnąć dany temat. W przypadku bota asystenta odpowiedzi są zaprogramowane pod konkretne pytania. Bot nie potrafi prowadzić dłuższej dyskusji, a gdy nie zna odpowiedzi podaje zestaw przykładowych pytań na które już zna odpowiedź. W obu przypadkach, z powodów opisanych wyżej, nie byłem w stanie poprowadzić sensownej dyskusji."
      ],
      "metadata": {
        "id": "jBFkc-mBKVKn"
      }
    }
  ]
}