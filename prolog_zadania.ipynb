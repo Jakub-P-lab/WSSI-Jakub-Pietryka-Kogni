{
  "nbformat": 4,
  "nbformat_minor": 0,
  "metadata": {
    "colab": {
      "provenance": [],
      "authorship_tag": "ABX9TyNgjPDmWpZ7kN7Fjbuy4kw4",
      "include_colab_link": true
    },
    "kernelspec": {
      "name": "python3",
      "display_name": "Python 3"
    },
    "language_info": {
      "name": "python"
    }
  },
  "cells": [
    {
      "cell_type": "markdown",
      "metadata": {
        "id": "view-in-github",
        "colab_type": "text"
      },
      "source": [
        "<a href=\"https://colab.research.google.com/github/Jakub-P-lab/WSSI-Jakub-Pietryka-Kogni/blob/Prolog/prolog_zadania.ipynb\" target=\"_parent\"><img src=\"https://colab.research.google.com/assets/colab-badge.svg\" alt=\"Open In Colab\"/></a>"
      ]
    },
    {
      "cell_type": "markdown",
      "source": [
        "# Chciałbym zaznaczyć, że wszystkie kody były sprawdzane w pobranej wersji prologa.\n",
        "\n",
        "**Zadanie 1**"
      ],
      "metadata": {
        "id": "Y4pRTOwQ_si1"
      }
    },
    {
      "cell_type": "code",
      "execution_count": null,
      "metadata": {
        "id": "8uLiv3lRZfcC"
      },
      "outputs": [],
      "source": [
        "ojciec(jan, anna).\n",
        "ojciec(jan, piotr).\n",
        "ojciec(marcin, adam).\n",
        "matka(maria, anna).\n",
        "matka(maria, piotr).\n",
        "matka(ewa, adam).\n",
        "\n",
        "rodzic(X, Y) :- ojciec(X, Y).\n",
        "rodzic(X, Y) :- matka(X, Y).\n",
        "\n",
        "przodek(X, Y) :-\n",
        "    rodzic(X, Y),\n",
        "    X \\= Y.\n",
        "\n",
        "malzenstwo(jan, maria).\n",
        "malzenstwo(marcin, ewa).\n",
        "malzenstwo(X, Y) :-\n",
        "    malzenstwo(Y, X).\n",
        "\n",
        "mezczyzna(jan).\n",
        "mezczyzna(piotr).\n",
        "mezczyzna(marcin).\n",
        "kobieta(anna).\n",
        "kobieta(maria).\n",
        "kobieta(ewa).\n",
        "\n",
        "brat(X, Y) :-\n",
        "    rodzic(Z, X),\n",
        "    rodzic(Z, Y),\n",
        "    X \\= Y,\n",
        "    mezczyzna(X).\n",
        "\n",
        "brat(jan, marcin).\n",
        "\n",
        "siostra(X, Y) :-\n",
        "    rodzic(Z, X),\n",
        "    rodzic(Z, Y),\n",
        "    X \\= Y,\n",
        "    kobieta(X).\n",
        "\n",
        "kuzyn(X, Y) :-\n",
        "    malzenstwo(A, B),\n",
        "    brat(A, C),\n",
        "    rodzic(C, X),\n",
        "    rodzic(A, Y),\n",
        "    A \\= B,\n",
        "    C \\= A,\n",
        "    X \\= Y,\n",
        "    !."
      ]
    },
    {
      "cell_type": "markdown",
      "source": [
        "1. ?- przodek(jan, anna). wyświetla: **true**\n",
        "2. ?- brat(piotr, anna). wyświetla: **true**\n",
        "3. ?- kuzyn(X, piotr). wyświetla: **X = adam** gdzie Adam jest kuzynem Piotra\n",
        "\n",
        "\n",
        "---\n",
        "\n",
        "**Zadanie 2**"
      ],
      "metadata": {
        "id": "Pkz3GyHi_9bC"
      }
    },
    {
      "cell_type": "code",
      "source": [
        "lotnisko(warszawa).\n",
        "lotnisko(krakow).\n",
        "lotnisko(gdansk).\n",
        "polaczenie(warszawa, krakow, 200).\n",
        "polaczenie(krakow, gdansk, 200).\n",
        "polaczenie(warszawa, gdansk, 500).\n",
        "\n",
        "polaczenie(A, B) :- polaczenie(A, B, _).\n",
        "koszt_podrozy(A, B, C) :- polaczenie(A, B, C).\n",
        "cena(X) :- polaczenie(_, _, X).\n",
        "\n",
        "najkrotsza_droga(A, B) :-\n",
        "    lotnisko(A),\n",
        "    lotnisko(B),\n",
        "    A \\= B,\n",
        "    polaczenie(A, X, C),\n",
        "    polaczenie(X, B, D),\n",
        "    polaczenie(A, B, G),\n",
        "    F is C + D,\n",
        "    F =< G,\n",
        "    write('trasa przez '), write(X), write(' '), write('koszt '), write(F),\n",
        "    !;\n",
        "    polaczenie(A, B, G),\n",
        "    write('trasa przez '), write(B), write(' '), write('koszt '), write(G),\n",
        "    !."
      ],
      "metadata": {
        "id": "VnMNBxBSZhk7"
      },
      "execution_count": null,
      "outputs": []
    },
    {
      "cell_type": "markdown",
      "source": [
        "1. ?- polaczenie(warszawa, krakow). wyświetla: **true**\n",
        "2. ?- koszt_podrozy(warszawa, gdansk, C). wyświetla: **C = 500**\n",
        "3. ?- najkrotsza_droga(warszawa, gdansk). wyświetla: **trasa przez krakow koszt 400** **true.**\n",
        "\n",
        "\n",
        "---\n",
        "\n",
        "**Zadanie 3**"
      ],
      "metadata": {
        "id": "TtFzJc3bB4kW"
      }
    },
    {
      "cell_type": "code",
      "source": [
        ":- dynamic produkt/3.\n",
        "\n",
        "produkt(tv, 10, sektor_a).\n",
        "produkt(pralka, 5, sektor_b).\n",
        "produkt(lodowka, 3, sektor_c).\n",
        "\n",
        "dostepny_produkt(A) :-\n",
        "    produkt(A, B, _),\n",
        "    B > 0.\n",
        "    !.\n",
        "\n",
        "przenies_produkt(A, C) :-\n",
        "    produkt(A, B, _),\n",
        "    retract(produkt(A, B, _)),\n",
        "    assert(produkt(A, B, C)),\n",
        "    write(produkt(A, B, C)),\n",
        "    !.\n",
        "\n",
        "\n",
        "uzupelnij_stan(A, X) :-\n",
        "    retract(produkt(A, B, C)),\n",
        "    Y is B + X,\n",
        "    assertz(produkt(A, Y, C)),\n",
        "    write(produkt(A, Y, C)),\n",
        "    !."
      ],
      "metadata": {
        "id": "haocWVW9hi_F"
      },
      "execution_count": null,
      "outputs": []
    },
    {
      "cell_type": "markdown",
      "source": [
        "1. ?- dostepny_produkt(tv). wyświetla: **true**\n",
        "2. ?- przenies_produkt(tv, sektor_b). wyświetla: **produkt(tv,10,sektor_b)** **true.**\n",
        "\n",
        "oraz po sprawdzeniu ?- produkt(tv, B, C). wyświetla:\n",
        "**B = 10** i **C = sektor_b**\n",
        "\n",
        "3. ?- uzupelnij_stan(pralka, 3). wyświetla: **produkt(pralka,8,sektor_b)** **true.**\n",
        "\n",
        "oraz po sprawdzeniu ?- produkt(pralka, B, sektor_b). wyświetla:\n",
        "**B = 8**\n",
        "\n",
        "\n",
        "\n",
        "---\n",
        "**Zadanie 4**\n",
        "\n"
      ],
      "metadata": {
        "id": "OBEK9N7Y9WWx"
      }
    },
    {
      "cell_type": "code",
      "source": [
        "miasto(warszawa).\n",
        "miasto(krakow).\n",
        "miasto(poznan).\n",
        "droga(warszawa, krakow, 3).\n",
        "droga(krakow, poznan, 3).\n",
        "droga(warszawa, poznan, 7).\n",
        "\n",
        "droga(A, B) :-\n",
        "    droga(A, B, _), !.\n",
        "\n",
        "czas_przejazdu(A, B, T) :-\n",
        "    droga(A, B, T), !.\n",
        "\n",
        "najkrotsza_trasa(A, B) :-\n",
        "    miasto(A),\n",
        "    miasto(B),\n",
        "    A \\= B,\n",
        "    droga(A, X, C),\n",
        "    droga(X, B, D),\n",
        "    droga(A, B, G),\n",
        "    F is C + D,\n",
        "    F =< G,\n",
        "    write('trasa przez '), write(X), write(' '), write('czas '), write(F),\n",
        "    !;\n",
        "    droga(A, B, G),\n",
        "    write('trasa przez '), write(B), write(' '), write('czas '), write(G),\n",
        "    !."
      ],
      "metadata": {
        "id": "WJbsyTEPk-Jf"
      },
      "execution_count": null,
      "outputs": []
    },
    {
      "cell_type": "markdown",
      "source": [
        "1. ?- droga(warszawa, krakow). wyświetla: **true**\n",
        "2. ?- czas_przejazdu(warszawa, poznan, T). wyświetla: **T = 7**\n",
        "3. ?- najkrotsza_trasa(warszawa, poznan). wyświetla **trasa przez kraków czas 6 true**\n",
        "\n",
        "\n",
        "---\n",
        "**Zadanie 5**\n"
      ],
      "metadata": {
        "id": "KziCRUcFDI5F"
      }
    },
    {
      "cell_type": "code",
      "source": [
        "ksiazka('W pustyni i w puszczy', sienkiewicz, przygodowa).\n",
        "ksiazka('Hobbit', tolkien, fantasy).\n",
        "ksiazka('Pan Tadeusz', mickiewicz, poezja).\n",
        "ocena(uzytkownik1, 'W pustyni i w puszczy', 5).\n",
        "ocena(uzytkownik1, 'Hobbit', 4).\n",
        "ocena(uzytkownik1, 'Pan Tadeusz', 3).\n",
        "preferencje(uzytkownik1, fantasy).\n",
        "preferencje(uzytkownik1, przygodowa).\n",
        "\n",
        "polecane_ksiazki(A, B) :-\n",
        "    preferencje(A, B),\n",
        "    findall(D, (ksiazka(D, _, B),\n",
        "              ocena(A, D, X),\n",
        "              X >= 4), Y),\n",
        "    write(Y)."
      ],
      "metadata": {
        "id": "YtlZybO2wt1J"
      },
      "execution_count": null,
      "outputs": []
    },
    {
      "cell_type": "markdown",
      "source": [
        "?- polecane_ksiazki(uzytkownik1, fantasy). wyświetla: **[Hobbit] true.**\n",
        "\n",
        "Z dodatkowym założeniem, że wysoka ocena = wyższa lub równa 4."
      ],
      "metadata": {
        "id": "gZUwwKATEsl0"
      }
    }
  ]
}